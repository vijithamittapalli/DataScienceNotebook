{
 "cells": [
  {
   "cell_type": "markdown",
   "id": "41ad9cf5",
   "metadata": {},
   "source": [
    "# H1 : DataScienceEcosystem.ipynb"
   ]
  },
  {
   "cell_type": "markdown",
   "id": "c737d5c6",
   "metadata": {},
   "source": [
    "In this notebook, Data Science Tools and Ecosystem are summarized."
   ]
  },
  {
   "cell_type": "markdown",
   "id": "f873d6a0",
   "metadata": {},
   "source": [
    "#Objectives:\n",
    "* List popular languages for Data Science\n",
    "* List the libraries used in data science\n",
    "* Perform arithmetic operations in Jupyter Notebooks"
   ]
  },
  {
   "cell_type": "markdown",
   "id": "efa7085d",
   "metadata": {},
   "source": [
    "Some of the popular languages that Data Scientists use are:\n",
    "1. Python\n",
    "2. R\n",
    "3. SQL\n",
    "4. Julia"
   ]
  },
  {
   "cell_type": "markdown",
   "id": "b996866e",
   "metadata": {},
   "source": [
    "Some of the commonly used libraries used by Data Scientists include:\n",
    "1. TensorFlow\n",
    "2. NumPy\n",
    "3. Matplotlib\n",
    "4. Pandas"
   ]
  },
  {
   "cell_type": "markdown",
   "id": "0cfd7da2",
   "metadata": {},
   "source": [
    "|Data Science Tools |\n",
    "| ----------------- | \n",
    "| VSCode |\n",
    "|Jupyter Notebooks | \n",
    "| GitHub |\n",
    "| RStudio |"
   ]
  },
  {
   "cell_type": "markdown",
   "id": "58e99ef1",
   "metadata": {},
   "source": []
  },
  {
   "cell_type": "markdown",
   "id": "c51e4d65",
   "metadata": {},
   "source": [
    "###  Below are a few examples of evaluating arithmetic expressions in Python\n",
    "2*3"
   ]
  },
  {
   "cell_type": "code",
   "execution_count": 4,
   "id": "8c87d27b",
   "metadata": {},
   "outputs": [
    {
     "name": "stdout",
     "output_type": "stream",
     "text": [
      "17\n"
     ]
    }
   ],
   "source": [
    "#This a simple arithmetic expression to mutiply then add integers\n",
    "a = (3*4)+5\n",
    "print(a)"
   ]
  },
  {
   "cell_type": "code",
   "execution_count": 5,
   "id": "2f4261a6",
   "metadata": {},
   "outputs": [
    {
     "name": "stdout",
     "output_type": "stream",
     "text": [
      "3.3333333333333335\n"
     ]
    }
   ],
   "source": [
    "# This will convert 200 minutes to hours by diving by 60\n",
    "min = 200\n",
    "hr = min/60\n",
    "print(hr)"
   ]
  },
  {
   "cell_type": "markdown",
   "id": "0038cae5",
   "metadata": {},
   "source": [
    "## Author\n",
    "Vijitha Mittapalli"
   ]
  },
  {
   "cell_type": "code",
   "execution_count": null,
   "id": "17c45972",
   "metadata": {},
   "outputs": [],
   "source": []
  }
 ],
 "metadata": {
  "kernelspec": {
   "display_name": "Python 3 (ipykernel)",
   "language": "python",
   "name": "python3"
  },
  "language_info": {
   "codemirror_mode": {
    "name": "ipython",
    "version": 3
   },
   "file_extension": ".py",
   "mimetype": "text/x-python",
   "name": "python",
   "nbconvert_exporter": "python",
   "pygments_lexer": "ipython3",
   "version": "3.10.9"
  }
 },
 "nbformat": 4,
 "nbformat_minor": 5
}
